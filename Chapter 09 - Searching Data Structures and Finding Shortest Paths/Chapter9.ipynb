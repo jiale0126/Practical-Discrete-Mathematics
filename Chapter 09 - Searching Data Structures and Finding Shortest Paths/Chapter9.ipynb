{
  "cells": [
    {
      "cell_type": "markdown",
      "metadata": {
        "id": "EPYiZXmEERKp"
      },
      "source": [
        "# Chapter 9 - Searching Data Structures and Finding Shortest Paths\n",
        "\n",
        "This notebook contains code accompanying Chapter 9 Searching Data Structures and Finding Shortest Paths in *Practical Discrete Mathematics* by Ryan T. White and Archana Tikayat Ray\n",
        "\n",
        "For most of the code in the chapter, we need to import the `NumPy` library."
      ]
    },
    {
      "cell_type": "code",
      "execution_count": 2,
      "metadata": {
        "id": "TZbex1GjERKq"
      },
      "outputs": [],
      "source": [
        "import numpy"
      ]
    },
    {
      "cell_type": "markdown",
      "metadata": {
        "id": "_w78mGtFERKq"
      },
      "source": [
        "## A Python Implementation of DFS"
      ]
    },
    {
      "cell_type": "code",
      "execution_count": 3,
      "metadata": {
        "id": "F2WjnJJfERKq"
      },
      "outputs": [],
      "source": [
        "# Depth First Search\n",
        "#\n",
        "# INPUTS\n",
        "# A - an adjacency matrix. It should be square, symmetric, and binary\n",
        "# source - the number of the source vertex\n",
        "#\n",
        "# OUTPUTS\n",
        "# vertexList - an ordered list of vertices found in the search\n",
        "\n",
        "def DFS(A, source):\n",
        "    # reduce the source by 1 to avoid off-by-1 errors\n",
        "    source -= 1\n",
        "\n",
        "    # find the number of vertices\n",
        "    n = A.shape[0]\n",
        "\n",
        "    # initialize the unvisited vertex set to be full\n",
        "    unvisited = [1] * n\n",
        "\n",
        "    # initialize a queue with the source vertex\n",
        "    stack = [source]\n",
        "\n",
        "    # initialize the vertex list\n",
        "    vertexList = []\n",
        "\n",
        "    # while the stack is not empty\n",
        "    while stack:\n",
        "        # remove the just-visited vertex from the stack and store it\n",
        "        v = stack.pop()\n",
        "\n",
        "        # if v is unvisited, add it to our list and mark it as visited\n",
        "        if unvisited[v]:\n",
        "            # save and print the number of the newly visited vertex\n",
        "            vertexList.append(v)\n",
        "\n",
        "            # mark the vertex as visited\n",
        "            unvisited[v] = 0\n",
        "\n",
        "        # iterate through the vertices\n",
        "        for u in range(n - 1, 0, -1):\n",
        "            # add each unvisited neighbor to the stack\n",
        "            if A[v,u] == 1 and unvisited[u] == 1:\n",
        "                stack.append(u)\n",
        "\n",
        "    # return the vertex list found by DFS\n",
        "    return vertexList"
      ]
    },
    {
      "cell_type": "markdown",
      "metadata": {
        "id": "k33w7FJgERKr"
      },
      "source": [
        "Let's save the adjacency matrix for the graph in Figure 9.1."
      ]
    },
    {
      "cell_type": "code",
      "execution_count": 4,
      "metadata": {
        "id": "njIBR0YeERKr"
      },
      "outputs": [],
      "source": [
        "# Save the adjacency matrix for the graph in Figure 9.1\n",
        "A = numpy.array([[0, 1, 0, 0, 1, 0, 0, 0, 0, 0, 0],\n",
        "                  [1, 0, 0, 0, 0, 0, 0, 0, 0, 0, 0],\n",
        "                  [0, 0, 0, 1, 0, 1, 0, 0, 0, 0, 0],\n",
        "                  [0, 0, 1, 0, 1, 1, 0, 0, 0, 0, 0],\n",
        "                  [1, 0, 0, 1, 0, 0, 1, 1, 1, 0, 0],\n",
        "                  [0, 0, 1, 1, 0, 0, 0, 0, 0, 0, 0],\n",
        "                  [0, 0, 0, 0, 1, 0, 0, 1, 0, 1, 0],\n",
        "                  [0, 0, 0, 0, 1, 0, 1, 0, 1, 1, 0],\n",
        "                  [0, 0, 0, 0, 1, 0, 0, 1, 0, 1, 0],\n",
        "                  [0, 0, 0, 0, 0, 0, 1, 1, 1, 0, 0],\n",
        "                  [0, 0, 0, 0, 0, 0, 0, 0, 0, 0, 0]])"
      ]
    },
    {
      "cell_type": "markdown",
      "metadata": {
        "id": "b5Pt9o6UERKr"
      },
      "source": [
        "Next, let's run DFS on the graph starting with source vertex 1."
      ]
    },
    {
      "cell_type": "code",
      "execution_count": 5,
      "metadata": {
        "id": "oaQBuex7ERKr",
        "outputId": "baebe0dd-c6ee-4112-fc60-4420f17a329a",
        "colab": {
          "base_uri": "https://localhost:8080/"
        }
      },
      "outputs": [
        {
          "output_type": "execute_result",
          "data": {
            "text/plain": [
              "[1, 2, 5, 4, 3, 6, 7, 8, 9, 10]"
            ]
          },
          "metadata": {},
          "execution_count": 5
        }
      ],
      "source": [
        "# Run DFS on the graph with adjacency matrix A and source 1\n",
        "vertexList = DFS(A,1)\n",
        "\n",
        "# Add 1 to the vertex numbers\n",
        "[x + 1 for x in vertexList]"
      ]
    },
    {
      "cell_type": "markdown",
      "metadata": {
        "id": "HAfapK8TERKs"
      },
      "source": [
        "## Shortest Paths on Networks\n",
        "\n",
        "The following function checks if a path exists between vertex i and vertex j."
      ]
    },
    {
      "cell_type": "code",
      "execution_count": 6,
      "metadata": {
        "id": "bH0jM-m6ERKs"
      },
      "outputs": [],
      "source": [
        "# create a function that returns True if vertex i and vertex j are\n",
        "# connected in the graph represented by the input adjacency matrix A\n",
        "def isConnected(A, i, j):\n",
        "    # initialize the paths matrix to adjacency matrix A\n",
        "    paths = A\n",
        "\n",
        "    # find the number of vertices in the graph\n",
        "    numberOfVertices = A.shape[0]\n",
        "\n",
        "    # find the number of edges in the graph\n",
        "    numberOfEdges = numpy.sum(A)/2\n",
        "\n",
        "    # if vi and vj are adjacent, return True\n",
        "    if paths[i-1][j-1] > 0:\n",
        "        print('Vertex', i, 'and vertex', j, 'are adjacent')\n",
        "        return True\n",
        "\n",
        "    else:\n",
        "        # run the loop until we find a path\n",
        "        for pathLength in range(2, numberOfVertices):\n",
        "            # exponentiate the adjacency matrix\n",
        "            paths = numpy.dot(paths, A)\n",
        "\n",
        "            # if the element in row i, column j is more than 0, we\n",
        "            # found a path\n",
        "            if paths[i-1][j-1] > 0:\n",
        "                print('There is a path with', pathLength,\n",
        "                      'edges from vertex', i, 'to vertex', j)\n",
        "                return True\n",
        "\n",
        "        # found no paths, the vertices are not connected\n",
        "        if pathLength == numberOfEdges:\n",
        "            print('There are no paths from vertex', i, 'to vertex', j)\n",
        "            return False"
      ]
    },
    {
      "cell_type": "markdown",
      "metadata": {
        "id": "8mDxq1WKERKs"
      },
      "source": [
        "Let's create adjacency matrices for the graphs in Figure 9.6 and test our function."
      ]
    },
    {
      "cell_type": "code",
      "execution_count": 7,
      "metadata": {
        "id": "Rv7a_zghERKs",
        "outputId": "233ffc31-0106-47a6-9c19-6d6c8f973bf0",
        "colab": {
          "base_uri": "https://localhost:8080/"
        }
      },
      "outputs": [
        {
          "output_type": "stream",
          "name": "stdout",
          "text": [
            "There is a path with 2 edges from vertex 1 to vertex 4\n",
            "True\n",
            "Vertex 2 and vertex 3 are adjacent\n",
            "True\n",
            "There is a path with 3 edges from vertex 5 to vertex 6\n",
            "True\n",
            "There is a path with 2 edges from vertex 1 to vertex 6\n",
            "True\n",
            "There are no paths from vertex 2 to vertex 5\n",
            "False\n",
            "There are no paths from vertex 1 to vertex 4\n",
            "False\n"
          ]
        }
      ],
      "source": [
        "# create an adjacency matrix for the graph G1\n",
        "A1 = numpy.array([[0, 1, 1, 0, 1, 0], [1, 0, 1, 1, 0, 1],\n",
        "                  [1, 1, 0, 1, 1, 0], [0, 1, 1, 0, 1, 0],\n",
        "                  [1, 0, 1, 1, 0, 0], [0, 1, 0, 0, 0, 0]])\n",
        "\n",
        "# check if various vertices are connected\n",
        "print(isConnected(A1, 1, 4))\n",
        "print(isConnected(A1, 2, 3))\n",
        "print(isConnected(A1, 5, 6))\n",
        "\n",
        "# create an adjacency matrix for graph G2\n",
        "A2 = numpy.array([[0, 1, 0, 0, 0, 0], [1, 0, 0, 0, 0, 1],\n",
        "                  [0, 0, 0, 1, 1, 0], [0, 0, 1, 0, 1, 0],\n",
        "                  [0, 0, 1, 1, 0, 0], [0, 1, 0, 0, 0, 0]])\n",
        "\n",
        "print(isConnected(A2, 1, 6))\n",
        "print(isConnected(A2, 2, 5))\n",
        "print(isConnected(A2, 1, 4))"
      ]
    },
    {
      "cell_type": "markdown",
      "metadata": {
        "id": "tZDrraMQERKs"
      },
      "source": [
        "## Python Implementation of Dijkstra’s Algorithm\n",
        "\n"
      ]
    },
    {
      "cell_type": "code",
      "execution_count": 8,
      "metadata": {
        "id": "Q2hhlAYFERKs"
      },
      "outputs": [],
      "source": [
        "import numpy\n",
        "\n",
        "# Dijkstra's algorithm for finding shortest paths from the source\n",
        "# vertex to all other vertices in the graph\n",
        "#\n",
        "# INPUTS\n",
        "# W - a weight matrix. It should be a square matrix\n",
        "# i - the number of the source node\n",
        "#\n",
        "# OUTPUTS\n",
        "# shortestDistances - the shortest distances from the source to each\n",
        "# vertex\n",
        "# previousVertices - the previous vertex to the destination in a\n",
        "# shortest path from the source to a destination\n",
        "def Dijkstra(W, i):\n",
        "    # find the number of vertices\n",
        "    n = W.shape[0]\n",
        "\n",
        "    # initialize the shortest distances to infinity\n",
        "    shortestDistances = numpy.array([numpy.inf] * n)\n",
        "\n",
        "    # initialize the previous vertices\n",
        "    previousVertices = numpy.array([numpy.inf] * n)\n",
        "\n",
        "    # initialize the unvisited vertex set to be full\n",
        "    unvisited = numpy.array([1] * n)\n",
        "\n",
        "    # mark the source as visited\n",
        "    unvisited[i - 1] = 0\n",
        "\n",
        "    # initialize distance from the source to the source as 0\n",
        "    shortestDistances[i - 1] = 0\n",
        "\n",
        "    # loop for iteration per vertex until the unvisited set is empty\n",
        "    for _ in range(n):\n",
        "        # find the distances to all unvisited adjacent vertices and\n",
        "        # set others to 0\n",
        "        distances = shortestDistances * unvisited\n",
        "\n",
        "        # find the index of the nearest unvisited vertex (where\n",
        "        # distances > 0)\n",
        "        x = numpy.argmin(numpy.ma.masked_where(\n",
        "            distances == 0, distances))\n",
        "\n",
        "        # mark vertex x as visited\n",
        "        unvisited[x] = 0\n",
        "\n",
        "        # iterate through the vertices\n",
        "        for v in range(n):\n",
        "\n",
        "            oldDistance = shortestDistances[v]\n",
        "            newDistance = shortestDistances[x] + W[v,x]\n",
        "            adjacent = W[v,x] > 0\n",
        "            unvis = unvisited[v]\n",
        "\n",
        "            # if v and x are connected, v has not been visited, and we\n",
        "            # find a shorter distance to node v...\n",
        "            if adjacent and unvis and oldDistance > newDistance:\n",
        "                # save the shortest distance found so far\n",
        "                shortestDistances[v] = shortestDistances[x] + W[v,x]\n",
        "\n",
        "                # save the previous vertex\n",
        "                previousVertices[v] = x\n",
        "\n",
        "    # print the table similar to the book\n",
        "    print(numpy.array([numpy.arange(n) + 1, shortestDistances,\n",
        "                       previousVertices + 1]).T)\n",
        "    # return the outputs\n",
        "    return shortestDistances, previousVertices\n"
      ]
    },
    {
      "cell_type": "markdown",
      "metadata": {
        "id": "dApzvwrsERKt"
      },
      "source": [
        "Let's create the weight matrix for the network in Figure 9.15 and run Dijkstra's algorithms to find the shortest paths from $v_1$ to all other vertices."
      ]
    },
    {
      "cell_type": "code",
      "execution_count": 9,
      "metadata": {
        "id": "RKdTIjRHERKt",
        "outputId": "42e5fb1c-9d69-42bb-9bb2-eea92e05f8ec",
        "colab": {
          "base_uri": "https://localhost:8080/"
        }
      },
      "outputs": [
        {
          "output_type": "stream",
          "name": "stdout",
          "text": [
            "[[ 1.  0. inf]\n",
            " [ 2.  3.  3.]\n",
            " [ 3.  1.  1.]\n",
            " [ 4.  2.  3.]\n",
            " [ 5.  2.  1.]\n",
            " [ 6.  4.  2.]]\n"
          ]
        }
      ],
      "source": [
        "# Create a weight matrix for the network in Figure 9.15\n",
        "W1 = numpy.array([[0, 4, 1, 0, 2, 0],\n",
        "                  [4, 0, 2, 1, 0, 1],\n",
        "                  [1, 2, 0, 1, 1, 0],\n",
        "                  [0, 1, 1, 0, 2, 0],\n",
        "                  [2, 0, 1, 2, 0, 0],\n",
        "                  [0, 1, 0, 0, 0, 0]])\n",
        "\n",
        "# Run Dijkstra's algorithm with a source at vertex v1\n",
        "shortestDistances, previousVertices = Dijkstra(W1, 1)"
      ]
    },
    {
      "cell_type": "markdown",
      "metadata": {
        "id": "PgAdzkXNERKt"
      },
      "source": [
        "Next, we write a function to clean up the outputs and display the paths"
      ]
    },
    {
      "cell_type": "code",
      "execution_count": 10,
      "metadata": {
        "id": "ojq0_8rYERKt"
      },
      "outputs": [],
      "source": [
        "# Use the previousVertices chart to construct the shortest path from\n",
        "# input source to input destination and print a string showing\n",
        "# showing the path\n",
        "\n",
        "def printShortestPath(shortestDistances, previousVertices, source,\n",
        "                      destination):\n",
        "    # avoid off-by-one error\n",
        "    source -= 1\n",
        "    destination -= 1\n",
        "\n",
        "    # convert previousVertices to integers\n",
        "    previousVertices = previousVertices.astype(int)\n",
        "\n",
        "    # initialize the path with the destination\n",
        "    path = [destination]\n",
        "\n",
        "    # add the previous vertex from previousVertices until we reach\n",
        "    # the source\n",
        "    for _ in range(previousVertices.shape[0] - 1):\n",
        "        # if the source is in the path, stop\n",
        "        if path[-1] == source:\n",
        "            break\n",
        "        # if the source is not in the path, add the previous vertex\n",
        "        else:\n",
        "            path.append(previousVertices[path[-1]])\n",
        "\n",
        "    # initialize an output string\n",
        "    output = []\n",
        "\n",
        "    # iterate through the path backwards (source to destination)\n",
        "    for i in numpy.flip(path):\n",
        "        # construct a list of strings to output\n",
        "        if i > 0:\n",
        "            output.append('->')\n",
        "\n",
        "        output.append('v' + str(i + 1))\n",
        "\n",
        "    # print the strings with no spaces\n",
        "    print('Path =', *output, '\\t\\t Distance =',\n",
        "          shortestDistances[destination])"
      ]
    },
    {
      "cell_type": "markdown",
      "metadata": {
        "id": "w4Lvta85ERKt"
      },
      "source": [
        "And, we run it to find:"
      ]
    },
    {
      "cell_type": "code",
      "execution_count": 11,
      "metadata": {
        "id": "1lnBTTnVERKt",
        "outputId": "8adfc7b0-2164-4076-9e26-97dee015079a",
        "colab": {
          "base_uri": "https://localhost:8080/"
        }
      },
      "outputs": [
        {
          "output_type": "stream",
          "name": "stdout",
          "text": [
            "Path = v1 -> v3 -> v2 \t\t Distance = 3.0\n",
            "Path = v1 -> v3 \t\t Distance = 1.0\n",
            "Path = v1 -> v3 -> v4 \t\t Distance = 2.0\n",
            "Path = v1 -> v5 \t\t Distance = 2.0\n",
            "Path = v1 -> v3 -> v2 -> v6 \t\t Distance = 4.0\n"
          ]
        },
        {
          "output_type": "stream",
          "name": "stderr",
          "text": [
            "<ipython-input-10-8470c64236d8>:12: RuntimeWarning: invalid value encountered in cast\n",
            "  previousVertices = previousVertices.astype(int)\n"
          ]
        }
      ],
      "source": [
        "for i in range(2,7):\n",
        "    printShortestPath(shortestDistances, previousVertices, 1, i)"
      ]
    },
    {
      "cell_type": "markdown",
      "metadata": {
        "id": "JJLwQVw-ERKt"
      },
      "source": [
        "Next, we try a network that we know is not connected. First, we will check if the vertices in question are connected."
      ]
    },
    {
      "cell_type": "code",
      "execution_count": 12,
      "metadata": {
        "id": "jkSn28dmERKt"
      },
      "outputs": [],
      "source": [
        "# find the shortest paths to connected vertices\n",
        "def distancesWithinComponent(source):\n",
        "    # initialize the connected component\n",
        "    component = [source]\n",
        "\n",
        "    # construct the connected component\n",
        "    for i in range(1, W2.shape[0] + 1):\n",
        "        if i != source and isConnected(W2, source, i):\n",
        "            component.append(i)\n",
        "\n",
        "    # find the weight matrix correponding to the connected component\n",
        "    subnetwork = W2[numpy.array(component) - 1,:][:,numpy.array(component) - 1]\n",
        "\n",
        "    # run Dijkstra's algorithm\n",
        "    return Dijkstra(subnetwork, 1)\n",
        "\n"
      ]
    },
    {
      "cell_type": "markdown",
      "metadata": {
        "id": "j4eCbOoRERKt"
      },
      "source": [
        "Let's find the paths from $v_1$."
      ]
    },
    {
      "cell_type": "code",
      "execution_count": 13,
      "metadata": {
        "id": "Qu16EKW6ERKt",
        "outputId": "d1cb7121-87e7-4226-91ef-0843874ba28e",
        "colab": {
          "base_uri": "https://localhost:8080/"
        }
      },
      "outputs": [
        {
          "output_type": "stream",
          "name": "stdout",
          "text": [
            "Vertex 1 and vertex 2 are adjacent\n",
            "There is a path with 2 edges from vertex 1 to vertex 6\n",
            "[[ 1.  0. inf]\n",
            " [ 2.  4.  1.]\n",
            " [ 3.  5.  2.]]\n"
          ]
        },
        {
          "output_type": "execute_result",
          "data": {
            "text/plain": [
              "(array([0., 4., 5.]), array([inf,  0.,  1.]))"
            ]
          },
          "metadata": {},
          "execution_count": 13
        }
      ],
      "source": [
        "# Create a weight matrix for the network in Figure 9.16\n",
        "W2 = numpy.array([[0, 4, 0, 0, 0, 0],\n",
        "                  [4, 0, 0, 0, 0, 1],\n",
        "                  [0, 0, 0, 1, 4, 0],\n",
        "                  [0, 0, 1, 0, 2, 0],\n",
        "                  [0, 0, 4, 2, 0, 0],\n",
        "                  [0, 1, 0, 0, 0, 0]])\n",
        "\n",
        "distancesWithinComponent(1)"
      ]
    },
    {
      "cell_type": "markdown",
      "metadata": {
        "id": "9-D75jrLERKu"
      },
      "source": [
        "Let's find the paths from $v_3$."
      ]
    },
    {
      "cell_type": "code",
      "execution_count": 15,
      "metadata": {
        "id": "GUJPdyGtERKu",
        "outputId": "0b8eddfe-a708-4a34-87a7-f6cd067d1a40",
        "colab": {
          "base_uri": "https://localhost:8080/"
        }
      },
      "outputs": [
        {
          "output_type": "stream",
          "name": "stdout",
          "text": [
            "Vertex 3 and vertex 4 are adjacent\n",
            "Vertex 3 and vertex 5 are adjacent\n",
            "[[ 1.  0. inf]\n",
            " [ 2.  1.  1.]\n",
            " [ 3.  3.  2.]]\n"
          ]
        },
        {
          "output_type": "execute_result",
          "data": {
            "text/plain": [
              "(array([0., 1., 3.]), array([inf,  0.,  1.]))"
            ]
          },
          "metadata": {},
          "execution_count": 15
        }
      ],
      "source": [
        "distancesWithinComponent(3)"
      ]
    },
    {
      "cell_type": "code",
      "source": [
        "W3 = numpy.array([[0, 1, 0, 0, 7, 8],\n",
        "                  [1, 0, 4, 0, 3, 0],\n",
        "                  [0, 4, 0, 5, 2, 0],\n",
        "                  [0, 0, 5, 0, 2, 0],\n",
        "                  [0, 0, 7, 2, 0, 0],\n",
        "                  [7, 3, 2, 0, 0, 1],\n",
        "                  [8, 0, 0, 0, 1, 0]])\n",
        "\n",
        "distancesWithinComponent(1)"
      ],
      "metadata": {
        "id": "7y12-ff6EbwP",
        "outputId": "741d5c66-3ddd-4057-a94c-58b305c3877a",
        "colab": {
          "base_uri": "https://localhost:8080/"
        }
      },
      "execution_count": 16,
      "outputs": [
        {
          "output_type": "stream",
          "name": "stdout",
          "text": [
            "Vertex 1 and vertex 2 are adjacent\n",
            "There is a path with 2 edges from vertex 1 to vertex 6\n",
            "[[ 1.  0. inf]\n",
            " [ 2.  4.  1.]\n",
            " [ 3.  5.  2.]]\n"
          ]
        },
        {
          "output_type": "execute_result",
          "data": {
            "text/plain": [
              "(array([0., 4., 5.]), array([inf,  0.,  1.]))"
            ]
          },
          "metadata": {},
          "execution_count": 16
        }
      ]
    }
  ],
  "metadata": {
    "kernelspec": {
      "display_name": "Python 3",
      "name": "python3"
    },
    "language_info": {
      "name": "python"
    },
    "colab": {
      "provenance": []
    }
  },
  "nbformat": 4,
  "nbformat_minor": 0
}